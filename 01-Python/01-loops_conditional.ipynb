{
  "nbformat": 4,
  "nbformat_minor": 0,
  "metadata": {
    "colab": {
      "provenance": []
    },
    "kernelspec": {
      "name": "python3",
      "display_name": "Python 3"
    },
    "language_info": {
      "name": "python"
    }
  },
  "cells": [
    {
      "cell_type": "code",
      "source": [
        "# Exercise 1:\n",
        "# Create a dictionary from a list of words where each key is a word and its value is the length of that word.\n",
        "\n",
        "# List of words\n",
        "words = [\"python\", \"data\", \"science\", \"machine\", \"learning\"]\n",
        "\n",
        "# Using dictionary comprehension to create a dictionary mapping each word to its length.\n",
        "dict2 = {word: len(word) for word in words}\n",
        "\n",
        "# Print the resulting dictionary.\n",
        "print(dict2)  # Expected output: {'python': 6, 'data': 4, 'science': 7, 'machine': 7, 'learning': 8}\n"
      ],
      "metadata": {
        "colab": {
          "base_uri": "https://localhost:8080/"
        },
        "id": "6eO9wjznIX4v",
        "outputId": "00aeb08a-50c1-4dd8-dc7a-69db62775729"
      },
      "execution_count": null,
      "outputs": [
        {
          "output_type": "stream",
          "name": "stdout",
          "text": [
            "{'python': 6, 'data': 4, 'science': 7, 'machine': 7, 'learning': 8}\n"
          ]
        }
      ]
    },
    {
      "cell_type": "code",
      "source": [
        "# Exercise 2:\n",
        "# Reverse a given positive integer by extracting its digits using a while loop.\n",
        "# The program takes a positive integer input from the user and prints its reversed version.\n",
        "\n",
        "# Get input from the user and convert it to an integer.\n",
        "number = int(input(\"Please enter a positive integer: \"))\n",
        "\n",
        "# Initialize the variable to hold the reversed number.\n",
        "reverse = 0\n",
        "\n",
        "# Loop until the original number is reduced to 0.\n",
        "while number > 0:\n",
        "    # Extract the last digit of the number using the modulus operator.\n",
        "    digit = number % 10\n",
        "\n",
        "    # Build the reversed number by shifting the previous digits to the left and adding the new digit.\n",
        "    reverse = reverse * 10 + digit\n",
        "\n",
        "    # Remove the last digit from the original number using integer division.\n",
        "    number //= 10\n",
        "\n",
        "# Print the reversed number.\n",
        "print(\"Reversed number:\", reverse)\n"
      ],
      "metadata": {
        "colab": {
          "base_uri": "https://localhost:8080/"
        },
        "id": "YZNeBitbIr62",
        "outputId": "95f84e9b-7859-4427-bf56-3d8549f8c482"
      },
      "execution_count": null,
      "outputs": [
        {
          "output_type": "stream",
          "name": "stdout",
          "text": [
            "Please enter a positive integer: 135\n",
            "Reversed number: 531\n"
          ]
        }
      ]
    },
    {
      "cell_type": "code",
      "source": [
        "# Exercise 3:\n",
        "# Classify a student's grade (an integer between 0 and 100) into categories using if, elif, and else.\n",
        "# The classification is as follows:\n",
        "# - 90 to 100: \"Excellent\"\n",
        "# - 70 to 89: \"Good\"\n",
        "# - 50 to 69: \"Average\"\n",
        "# - Below 50: \"Poor\"\n",
        "\n",
        "# Get the grade input from the user and convert it to an integer.\n",
        "grade = int(input(\"Enter the student's grade (0-100): \"))\n",
        "\n",
        "# Check the grade range and print the corresponding classification.\n",
        "if 90 <= grade <= 100:\n",
        "    print(\"Excellent\")\n",
        "elif 70 <= grade < 90:\n",
        "    print(\"Good\")\n",
        "elif 50 <= grade < 70:\n",
        "    print(\"Average\")\n",
        "else:\n",
        "    print(\"Poor\")\n"
      ],
      "metadata": {
        "colab": {
          "base_uri": "https://localhost:8080/"
        },
        "id": "N97bnvOII-O9",
        "outputId": "794e884d-e9b1-41b2-99f1-5ce2a71880ba"
      },
      "execution_count": null,
      "outputs": [
        {
          "output_type": "stream",
          "name": "stdout",
          "text": [
            "Enter the student's grade (0-100): 25\n",
            "Poor\n"
          ]
        }
      ]
    },
    {
      "cell_type": "code",
      "source": [
        "# Exercise 4: Stock Trend Analysis\n",
        "# -------------------------------------------------------------\n",
        "# Problem:\n",
        "# Given a list of daily stock closing prices, determine the trend for each day\n",
        "# compared to the previous day: \"up\" if today's price is higher, \"down\" if lower,\n",
        "# or \"no change\" if equal. Then, count the occurrences of each trend and print\n",
        "# both the day-by-day trend and overall counts.\n",
        "\n",
        "# List of daily stock closing prices\n",
        "prices = [150.0, 152.5, 151.0, 151.0, 153.5, 150.5, 155.0]\n",
        "\n",
        "# Initialize an empty dictionary to hold trend counts\n",
        "trend_counts = {\"up\": 0, \"down\": 0, \"no change\": 0}\n",
        "\n",
        "# Initialize an empty list to store the trend for each day (starting from day 2)\n",
        "daily_trends = []\n",
        "\n",
        "# Loop through the list starting from the second element\n",
        "for i in range(1, len(prices)):\n",
        "    # Compare current price with previous day's price\n",
        "    if prices[i] > prices[i-1]:\n",
        "        trend = \"up\"\n",
        "    elif prices[i] < prices[i-1]:\n",
        "        trend = \"down\"\n",
        "    else:\n",
        "        trend = \"no change\"\n",
        "\n",
        "    # Append the trend for the current day to the list\n",
        "    daily_trends.append(trend)\n",
        "\n",
        "    # Update the trend counts dictionary\n",
        "    trend_counts[trend] += 1\n",
        "\n",
        "# Print the daily trends\n",
        "print(\"Daily Trends:\")\n",
        "for day, trend in enumerate(daily_trends, start=2):  # starting day count from 2\n",
        "    print(f\"Day {day}: {trend}\")\n",
        "\n",
        "# Print the overall trend counts\n",
        "print(\"\\nOverall Trend Counts:\")\n",
        "print(trend_counts)\n"
      ],
      "metadata": {
        "colab": {
          "base_uri": "https://localhost:8080/"
        },
        "id": "NxW_S3VoR6DK",
        "outputId": "6e60c961-53ab-4cc9-d167-13b45f531ebc"
      },
      "execution_count": null,
      "outputs": [
        {
          "output_type": "stream",
          "name": "stdout",
          "text": [
            "Daily Trends:\n",
            "Day 2: up\n",
            "Day 3: down\n",
            "Day 4: no change\n",
            "Day 5: up\n",
            "Day 6: down\n",
            "Day 7: up\n",
            "\n",
            "Overall Trend Counts:\n",
            "{'up': 3, 'down': 2, 'no change': 1}\n"
          ]
        }
      ]
    },
    {
      "cell_type": "code",
      "source": [
        "# Exercise 5: Compound Interest Simulation with Conditional Interest Rates\n",
        "# -------------------------------------------------------------------------\n",
        "# Problem:\n",
        "# Simulate the growth of an investment where the annual interest rate varies\n",
        "# based on the current balance:\n",
        "# - Balance < 10,000: 3% per year.\n",
        "# - 10,000 <= Balance < 50,000: 4% per year.\n",
        "# - Balance >= 50,000: 5% per year.\n",
        "#\n",
        "# Use a while loop to simulate the growth until the balance reaches a target amount.\n",
        "# For each year, update the balance based on the corresponding interest rate,\n",
        "# store the balance for that year in a dictionary, and print a yearly summary.\n",
        "\n",
        "# Initial investment amount\n",
        "initial_balance = 5000.0\n",
        "\n",
        "# Target amount to reach\n",
        "target_balance = 60000.0\n",
        "\n",
        "# Initialize current balance with the initial investment\n",
        "balance = initial_balance\n",
        "\n",
        "# Initialize a dictionary to store balance at the end of each year\n",
        "yearly_balance = {}\n",
        "\n",
        "# Initialize a variable for the year count\n",
        "year = 1\n",
        "\n",
        "# Use a while loop to simulate year-by-year compound interest\n",
        "while balance < target_balance:\n",
        "    # Determine the interest rate based on the current balance\n",
        "    if balance < 10000:\n",
        "        interest_rate = 0.03  # 3%\n",
        "    elif 10000 <= balance < 50000:\n",
        "        interest_rate = 0.04  # 4%\n",
        "    else:\n",
        "        interest_rate = 0.05  # 5%\n",
        "\n",
        "    # Calculate interest for the current year\n",
        "    interest = balance * interest_rate\n",
        "    # Update the balance with the interest earned\n",
        "    balance += interest\n",
        "\n",
        "    # Store the balance for the current year in the dictionary\n",
        "    yearly_balance[year] = balance\n",
        "\n",
        "    # Print the year's summary\n",
        "    print(f\"Year {year}: Interest Rate: {interest_rate*100:.1f}% - End Balance: {balance:.2f}\")\n",
        "\n",
        "    # Move to the next year\n",
        "    year += 1\n",
        "\n",
        "# Final output: display the dictionary containing yearly balances\n",
        "print(\"\\nYearly Balance Summary:\")\n",
        "print(yearly_balance)\n"
      ],
      "metadata": {
        "colab": {
          "base_uri": "https://localhost:8080/"
        },
        "id": "NGEsQiH8TItz",
        "outputId": "bc51e952-5ebe-4be6-e930-d2df957f9894"
      },
      "execution_count": null,
      "outputs": [
        {
          "output_type": "stream",
          "name": "stdout",
          "text": [
            "Year 1: Interest Rate: 3.0% - End Balance: 5150.00\n",
            "Year 2: Interest Rate: 3.0% - End Balance: 5304.50\n",
            "Year 3: Interest Rate: 3.0% - End Balance: 5463.64\n",
            "Year 4: Interest Rate: 3.0% - End Balance: 5627.54\n",
            "Year 5: Interest Rate: 3.0% - End Balance: 5796.37\n",
            "Year 6: Interest Rate: 3.0% - End Balance: 5970.26\n",
            "Year 7: Interest Rate: 3.0% - End Balance: 6149.37\n",
            "Year 8: Interest Rate: 3.0% - End Balance: 6333.85\n",
            "Year 9: Interest Rate: 3.0% - End Balance: 6523.87\n",
            "Year 10: Interest Rate: 3.0% - End Balance: 6719.58\n",
            "Year 11: Interest Rate: 3.0% - End Balance: 6921.17\n",
            "Year 12: Interest Rate: 3.0% - End Balance: 7128.80\n",
            "Year 13: Interest Rate: 3.0% - End Balance: 7342.67\n",
            "Year 14: Interest Rate: 3.0% - End Balance: 7562.95\n",
            "Year 15: Interest Rate: 3.0% - End Balance: 7789.84\n",
            "Year 16: Interest Rate: 3.0% - End Balance: 8023.53\n",
            "Year 17: Interest Rate: 3.0% - End Balance: 8264.24\n",
            "Year 18: Interest Rate: 3.0% - End Balance: 8512.17\n",
            "Year 19: Interest Rate: 3.0% - End Balance: 8767.53\n",
            "Year 20: Interest Rate: 3.0% - End Balance: 9030.56\n",
            "Year 21: Interest Rate: 3.0% - End Balance: 9301.47\n",
            "Year 22: Interest Rate: 3.0% - End Balance: 9580.52\n",
            "Year 23: Interest Rate: 3.0% - End Balance: 9867.93\n",
            "Year 24: Interest Rate: 3.0% - End Balance: 10163.97\n",
            "Year 25: Interest Rate: 4.0% - End Balance: 10570.53\n",
            "Year 26: Interest Rate: 4.0% - End Balance: 10993.35\n",
            "Year 27: Interest Rate: 4.0% - End Balance: 11433.08\n",
            "Year 28: Interest Rate: 4.0% - End Balance: 11890.41\n",
            "Year 29: Interest Rate: 4.0% - End Balance: 12366.02\n",
            "Year 30: Interest Rate: 4.0% - End Balance: 12860.67\n",
            "Year 31: Interest Rate: 4.0% - End Balance: 13375.09\n",
            "Year 32: Interest Rate: 4.0% - End Balance: 13910.10\n",
            "Year 33: Interest Rate: 4.0% - End Balance: 14466.50\n",
            "Year 34: Interest Rate: 4.0% - End Balance: 15045.16\n",
            "Year 35: Interest Rate: 4.0% - End Balance: 15646.97\n",
            "Year 36: Interest Rate: 4.0% - End Balance: 16272.84\n",
            "Year 37: Interest Rate: 4.0% - End Balance: 16923.76\n",
            "Year 38: Interest Rate: 4.0% - End Balance: 17600.71\n",
            "Year 39: Interest Rate: 4.0% - End Balance: 18304.74\n",
            "Year 40: Interest Rate: 4.0% - End Balance: 19036.93\n",
            "Year 41: Interest Rate: 4.0% - End Balance: 19798.40\n",
            "Year 42: Interest Rate: 4.0% - End Balance: 20590.34\n",
            "Year 43: Interest Rate: 4.0% - End Balance: 21413.95\n",
            "Year 44: Interest Rate: 4.0% - End Balance: 22270.51\n",
            "Year 45: Interest Rate: 4.0% - End Balance: 23161.33\n",
            "Year 46: Interest Rate: 4.0% - End Balance: 24087.78\n",
            "Year 47: Interest Rate: 4.0% - End Balance: 25051.30\n",
            "Year 48: Interest Rate: 4.0% - End Balance: 26053.35\n",
            "Year 49: Interest Rate: 4.0% - End Balance: 27095.48\n",
            "Year 50: Interest Rate: 4.0% - End Balance: 28179.30\n",
            "Year 51: Interest Rate: 4.0% - End Balance: 29306.47\n",
            "Year 52: Interest Rate: 4.0% - End Balance: 30478.73\n",
            "Year 53: Interest Rate: 4.0% - End Balance: 31697.88\n",
            "Year 54: Interest Rate: 4.0% - End Balance: 32965.80\n",
            "Year 55: Interest Rate: 4.0% - End Balance: 34284.43\n",
            "Year 56: Interest Rate: 4.0% - End Balance: 35655.81\n",
            "Year 57: Interest Rate: 4.0% - End Balance: 37082.04\n",
            "Year 58: Interest Rate: 4.0% - End Balance: 38565.32\n",
            "Year 59: Interest Rate: 4.0% - End Balance: 40107.93\n",
            "Year 60: Interest Rate: 4.0% - End Balance: 41712.25\n",
            "Year 61: Interest Rate: 4.0% - End Balance: 43380.74\n",
            "Year 62: Interest Rate: 4.0% - End Balance: 45115.97\n",
            "Year 63: Interest Rate: 4.0% - End Balance: 46920.61\n",
            "Year 64: Interest Rate: 4.0% - End Balance: 48797.43\n",
            "Year 65: Interest Rate: 4.0% - End Balance: 50749.33\n",
            "Year 66: Interest Rate: 5.0% - End Balance: 53286.80\n",
            "Year 67: Interest Rate: 5.0% - End Balance: 55951.14\n",
            "Year 68: Interest Rate: 5.0% - End Balance: 58748.69\n",
            "Year 69: Interest Rate: 5.0% - End Balance: 61686.13\n",
            "\n",
            "Yearly Balance Summary:\n",
            "{1: 5150.0, 2: 5304.5, 3: 5463.635, 4: 5627.54405, 5: 5796.3703715, 6: 5970.261482645, 7: 6149.36932712435, 8: 6333.850406938081, 9: 6523.865919146223, 10: 6719.58189672061, 11: 6921.169353622228, 12: 7128.804434230895, 13: 7342.668567257821, 14: 7562.948624275556, 15: 7789.837083003822, 16: 8023.532195493936, 17: 8264.238161358755, 18: 8512.165306199518, 19: 8767.530265385503, 20: 9030.556173347068, 21: 9301.47285854748, 22: 9580.517044303904, 23: 9867.93255563302, 24: 10163.970532302012, 25: 10570.529353594093, 26: 10993.350527737857, 27: 11433.084548847371, 28: 11890.407930801266, 29: 12366.024248033316, 30: 12860.665217954649, 31: 13375.091826672835, 32: 13910.095499739748, 33: 14466.499319729337, 34: 15045.15929251851, 35: 15646.965664219251, 36: 16272.844290788022, 37: 16923.758062419543, 38: 17600.708384916325, 39: 18304.736720312976, 40: 19036.926189125494, 41: 19798.403236690512, 42: 20590.339366158132, 43: 21413.95294080446, 44: 22270.511058436638, 45: 23161.331500774104, 46: 24087.78476080507, 47: 25051.29615123727, 48: 26053.34799728676, 49: 27095.481917178233, 50: 28179.30119386536, 51: 29306.473241619977, 52: 30478.732171284777, 53: 31697.88145813617, 54: 32965.79671646161, 55: 34284.42858512008, 56: 35655.80572852488, 57: 37082.037957665874, 58: 38565.31947597251, 59: 40107.93225501141, 60: 41712.24954521187, 61: 43380.73952702034, 62: 45115.969108101155, 63: 46920.6078724252, 64: 48797.43218732221, 65: 50749.329474815095, 66: 53286.79594855585, 67: 55951.13574598364, 68: 58748.692533282825, 69: 61686.12715994697}\n"
          ]
        }
      ]
    }
  ]
}