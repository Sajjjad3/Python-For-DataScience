{
  "cells": [
    {
      "cell_type": "markdown",
      "metadata": {
        "id": "FRDBv-Ym6aEC"
      },
      "source": [
        "<div class=\"alert alert-block alert-success\">\n",
        "    <h1 align=\"center\">Machine Learning in Python</h1>\n",
        "    <h3 align=\"center\">Support Vector Machine (Regression) - (Position Salaries Dataset)</h3>\n",
        "    <h4 align=\"center\"><a href=\"http://www.linkedin.com/in/sajjad-shurgashti-bb7684326\">Sajjad Shurgashti</a></h5>\n",
        "</div>"
      ]
    },
    {
      "cell_type": "markdown",
      "metadata": {
        "id": "I_cT5Z-a6aED"
      },
      "source": [
        "## What is SVR?"
      ]
    },
    {
      "cell_type": "markdown",
      "metadata": {
        "id": "isvCaahv6aEE"
      },
      "source": [
        "<img src = \"https://miro.medium.com/max/788/1*25Kk53QBOpBie4_qMSTnAA.png\" width=55%>"
      ]
    },
    {
      "cell_type": "markdown",
      "metadata": {
        "id": "3ZtN2H0e6aEF"
      },
      "source": [
        "Support Vector regression is a type of Support vector machine that supports linear and non-linear regression. As it seems in the below graph, the mission is to fit as many instances as possible between the lines while limiting the margin violations. The violation concept in this example represents as ε (epsilon)."
      ]
    },
    {
      "cell_type": "markdown",
      "metadata": {
        "id": "r9cHm7P36aEF"
      },
      "source": [
        "## Generate sample data"
      ]
    },
    {
      "cell_type": "code",
      "execution_count": 7,
      "metadata": {
        "id": "vnRrQYoq6aEG"
      },
      "outputs": [],
      "source": [
        "import numpy as np\n",
        "\n",
        "X = np.sort(5 * np.random.rand(40, 1), axis=0)\n",
        "y = np.sin(X).ravel()"
      ]
    },
    {
      "cell_type": "code",
      "execution_count": null,
      "metadata": {
        "id": "VVRx6cD36aEI",
        "outputId": "e7698593-cd30-42b9-f151-dbf946b7b86c"
      },
      "outputs": [
        {
          "data": {
            "text/plain": [
              "array([[0.18178402],\n",
              "       [0.40932551],\n",
              "       [1.04325093],\n",
              "       [1.12671799],\n",
              "       [1.16988031],\n",
              "       [1.18523056],\n",
              "       [1.27740823],\n",
              "       [1.38133491],\n",
              "       [1.41722091],\n",
              "       [1.54892111],\n",
              "       [1.5536454 ],\n",
              "       [1.71482904],\n",
              "       [1.772389  ],\n",
              "       [1.81974296],\n",
              "       [1.91888   ],\n",
              "       [1.9624676 ],\n",
              "       [2.23266972],\n",
              "       [2.40653188],\n",
              "       [2.48784338],\n",
              "       [2.51454337],\n",
              "       [2.52157835],\n",
              "       [2.76925304],\n",
              "       [2.8171503 ],\n",
              "       [2.89135479],\n",
              "       [2.95251398],\n",
              "       [2.98458969],\n",
              "       [2.9857765 ],\n",
              "       [3.01345231],\n",
              "       [3.06785371],\n",
              "       [3.06787285],\n",
              "       [3.56856091],\n",
              "       [3.65257741],\n",
              "       [3.65815759],\n",
              "       [3.82643149],\n",
              "       [4.13674695],\n",
              "       [4.38780913],\n",
              "       [4.43839664],\n",
              "       [4.72557738],\n",
              "       [4.98203105],\n",
              "       [4.99012175]])"
            ]
          },
          "execution_count": 2,
          "metadata": {},
          "output_type": "execute_result"
        }
      ],
      "source": [
        "X"
      ]
    },
    {
      "cell_type": "code",
      "execution_count": null,
      "metadata": {
        "id": "7d9OFPFd6aEJ",
        "outputId": "315fa1f7-6343-4f32-a26f-9b39867727ee"
      },
      "outputs": [
        {
          "data": {
            "text/plain": [
              "array([ 0.18078448,  0.39799065,  0.86404535,  0.90300702,  0.92070389,\n",
              "        0.92658581,  0.95726954,  0.98210581,  0.98823046,  0.99976075,\n",
              "        0.99985293,  0.98964521,  0.97974892,  0.96917249,  0.94002809,\n",
              "        0.92427237,  0.78884224,  0.67063224,  0.60816688,  0.58675794,\n",
              "        0.5810468 ,  0.36379573,  0.31878028,  0.24763442,  0.18795407,\n",
              "        0.15635874,  0.15518642,  0.12778995,  0.07367214,  0.07365305,\n",
              "       -0.41411314, -0.48903645, -0.4938962 , -0.6325482 , -0.83884297,\n",
              "       -0.9477848 , -0.96269834, -0.99991303, -0.96386631, -0.96167953])"
            ]
          },
          "execution_count": 3,
          "metadata": {},
          "output_type": "execute_result"
        }
      ],
      "source": [
        "y"
      ]
    },
    {
      "cell_type": "code",
      "source": [
        "import matplotlib.pyplot as plt\n",
        "\n",
        "plt.scatter(X, y, color='blue', label=\"Data points\")\n",
        "plt.xlabel(\"X values\")\n",
        "plt.ylabel(\"y = sin(X)\")\n",
        "plt.title(\"Non-linear dataset for regression\")\n",
        "plt.legend()\n",
        "plt.show()\n"
      ],
      "metadata": {
        "colab": {
          "base_uri": "https://localhost:8080/",
          "height": 472
        },
        "id": "0u6RvgMb7kob",
        "outputId": "b0c9a660-29f1-4b64-f898-59ee5b820243"
      },
      "execution_count": 8,
      "outputs": [
        {
          "output_type": "display_data",
          "data": {
            "text/plain": [
              "<Figure size 640x480 with 1 Axes>"
            ],
            "image/png": "[encoded data removed]"
          },
          "metadata": {}
        }
      ]
    },
    {
      "cell_type": "markdown",
      "metadata": {
        "id": "CBg48fHm6aEJ"
      },
      "source": [
        "## Add some Noise"
      ]
    },
    {
      "cell_type": "code",
      "execution_count": 9,
      "metadata": {
        "id": "WEud6iYp6aEK"
      },
      "outputs": [],
      "source": [
        "y[::5] += 3 * (0.5 - np.random.rand(8))"
      ]
    },
    {
      "cell_type": "code",
      "execution_count": null,
      "metadata": {
        "id": "Git1zazt6aEL",
        "outputId": "5630e9e0-5f94-4d84-9083-fecf164f5ac8"
      },
      "outputs": [
        {
          "data": {
            "text/plain": [
              "array([ 0.55590218,  0.39799065,  0.86404535,  0.90300702,  0.92070389,\n",
              "        1.55967143,  0.95726954,  0.98210581,  0.98823046,  0.99976075,\n",
              "        0.37453059,  0.98964521,  0.97974892,  0.96917249,  0.94002809,\n",
              "       -0.19513149,  0.78884224,  0.67063224,  0.60816688,  0.58675794,\n",
              "       -0.34266279,  0.36379573,  0.31878028,  0.24763442,  0.18795407,\n",
              "        1.09055076,  0.15518642,  0.12778995,  0.07367214,  0.07365305,\n",
              "       -1.45549089, -0.48903645, -0.4938962 , -0.6325482 , -0.83884297,\n",
              "        0.17152495, -0.96269834, -0.99991303, -0.96386631, -0.96167953])"
            ]
          },
          "execution_count": 6,
          "metadata": {},
          "output_type": "execute_result"
        }
      ],
      "source": [
        "y"
      ]
    },
    {
      "cell_type": "code",
      "source": [
        "\n",
        "plt.scatter(X, y, color='red', label=\"Noisy Data\")\n",
        "plt.plot(X, np.sin(X), color='blue', label=\"Original sin(X)\")\n",
        "plt.xlabel(\"X values\")\n",
        "plt.ylabel(\"y values\")\n",
        "plt.title(\"Dataset with Noise\")\n",
        "plt.legend()\n",
        "plt.show()\n"
      ],
      "metadata": {
        "colab": {
          "base_uri": "https://localhost:8080/",
          "height": 472
        },
        "id": "nK7D-TaW8hXo",
        "outputId": "c610f28f-d7f8-4d9d-c6e5-0533fd89459c"
      },
      "execution_count": 10,
      "outputs": [
        {
          "output_type": "display_data",
          "data": {
            "text/plain": [
              "<Figure size 640x480 with 1 Axes>"
            ],
            "image/png": "[encoded data removed]"
          },
          "metadata": {}
        }
      ]
    },
    {
      "cell_type": "markdown",
      "metadata": {
        "id": "TzaHCVUP6aEM"
      },
      "source": [
        "## Fit Regression Model"
      ]
    },
    {
      "cell_type": "code",
      "execution_count": null,
      "metadata": {
        "id": "dXuOWlLu6aEN"
      },
      "outputs": [],
      "source": [
        "from sklearn.svm import SVR\n",
        "\n",
        "svr_rbf = SVR(kernel='rbf', C=1e4, gamma=0.1)\n",
        "svr_lin = SVR(kernel='linear', C=1e4)\n",
        "svr_poly = SVR(kernel='poly', C=1e4, degree=2)\n",
        "y_rbf = svr_rbf.fit(X, y).predict(X)\n",
        "y_lin = svr_lin.fit(X, y).predict(X)\n",
        "y_poly = svr_poly.fit(X, y).predict(X)"
      ]
    },
    {
      "cell_type": "markdown",
      "metadata": {
        "id": "CLwD--tm6aEN"
      },
      "source": [
        "# Check the Result"
      ]
    },
    {
      "cell_type": "code",
      "execution_count": null,
      "metadata": {
        "id": "ww0h70Rh6aEO",
        "outputId": "04ada58f-f2fc-494b-85b4-c5e9815013a9"
      },
      "outputs": [
        {
          "data": {
            "image/png": "[encoded data removed]",
            "text/plain": [
              "<Figure size 432x288 with 1 Axes>"
            ]
          },
          "metadata": {
            "needs_background": "light"
          },
          "output_type": "display_data"
        }
      ],
      "source": [
        "import pylab as pl\n",
        "pl.scatter(X, y, c='k', label='data')\n",
        "pl.plot(X, y_rbf, c='g', label='RBF model')\n",
        "pl.plot(X, y_lin, c='r', label='Linear model')\n",
        "pl.plot(X, y_poly, c='b', label='Polynomial model')\n",
        "pl.xlabel('data')\n",
        "pl.ylabel('target')\n",
        "pl.title('Support Vector Regression')\n",
        "pl.legend()\n",
        "pl.show()"
      ]
    },
    {
      "cell_type": "markdown",
      "metadata": {
        "id": "OrgxkF-66aEP"
      },
      "source": [
        "## SVR On Salaries Dataset"
      ]
    },
    {
      "cell_type": "markdown",
      "metadata": {
        "id": "dUpLKfw76aEP"
      },
      "source": [
        "## Import libraries"
      ]
    },
    {
      "cell_type": "code",
      "execution_count": null,
      "metadata": {
        "id": "DAnPeje16aEQ"
      },
      "outputs": [],
      "source": [
        "%matplotlib inline\n",
        "import numpy as np\n",
        "import pandas as pd\n",
        "import matplotlib.pyplot as plt\n",
        "import seaborn as sns\n",
        "import sklearn"
      ]
    },
    {
      "cell_type": "markdown",
      "metadata": {
        "id": "xKL789c46aEQ"
      },
      "source": [
        "## Import Dataset"
      ]
    },
    {
      "cell_type": "code",
      "execution_count": null,
      "metadata": {
        "id": "rysc8lw56aER"
      },
      "outputs": [],
      "source": [
        "df = pd.read_csv('Position_Salaries.csv')\n",
        "X = df.iloc[:,1:2].values\n",
        "y = df.iloc[:,2:3].values"
      ]
    },
    {
      "cell_type": "code",
      "execution_count": null,
      "metadata": {
        "id": "9QnA8PQh6aER",
        "outputId": "f310a1a5-1140-4eff-f6ae-da1413aba853"
      },
      "outputs": [
        {
          "data": {
            "text/html": [
              "<div>\n",
              "<style scoped>\n",
              "    .dataframe tbody tr th:only-of-type {\n",
              "        vertical-align: middle;\n",
              "    }\n",
              "\n",
              "    .dataframe tbody tr th {\n",
              "        vertical-align: top;\n",
              "    }\n",
              "\n",
              "    .dataframe thead th {\n",
              "        text-align: right;\n",
              "    }\n",
              "</style>\n",
              "<table border=\"1\" class=\"dataframe\">\n",
              "  <thead>\n",
              "    <tr style=\"text-align: right;\">\n",
              "      <th></th>\n",
              "      <th>Position</th>\n",
              "      <th>Level</th>\n",
              "      <th>Salary</th>\n",
              "    </tr>\n",
              "  </thead>\n",
              "  <tbody>\n",
              "    <tr>\n",
              "      <th>0</th>\n",
              "      <td>Business Analyst</td>\n",
              "      <td>1</td>\n",
              "      <td>45000</td>\n",
              "    </tr>\n",
              "    <tr>\n",
              "      <th>1</th>\n",
              "      <td>Junior Consultant</td>\n",
              "      <td>2</td>\n",
              "      <td>50000</td>\n",
              "    </tr>\n",
              "    <tr>\n",
              "      <th>2</th>\n",
              "      <td>Senior Consultant</td>\n",
              "      <td>3</td>\n",
              "      <td>60000</td>\n",
              "    </tr>\n",
              "    <tr>\n",
              "      <th>3</th>\n",
              "      <td>Manager</td>\n",
              "      <td>4</td>\n",
              "      <td>80000</td>\n",
              "    </tr>\n",
              "    <tr>\n",
              "      <th>4</th>\n",
              "      <td>Country Manager</td>\n",
              "      <td>5</td>\n",
              "      <td>110000</td>\n",
              "    </tr>\n",
              "    <tr>\n",
              "      <th>5</th>\n",
              "      <td>Region Manager</td>\n",
              "      <td>6</td>\n",
              "      <td>150000</td>\n",
              "    </tr>\n",
              "    <tr>\n",
              "      <th>6</th>\n",
              "      <td>Partner</td>\n",
              "      <td>7</td>\n",
              "      <td>200000</td>\n",
              "    </tr>\n",
              "    <tr>\n",
              "      <th>7</th>\n",
              "      <td>Senior Partner</td>\n",
              "      <td>8</td>\n",
              "      <td>300000</td>\n",
              "    </tr>\n",
              "    <tr>\n",
              "      <th>8</th>\n",
              "      <td>C-level</td>\n",
              "      <td>9</td>\n",
              "      <td>500000</td>\n",
              "    </tr>\n",
              "    <tr>\n",
              "      <th>9</th>\n",
              "      <td>CEO</td>\n",
              "      <td>10</td>\n",
              "      <td>1000000</td>\n",
              "    </tr>\n",
              "  </tbody>\n",
              "</table>\n",
              "</div>"
            ],
            "text/plain": [
              "            Position  Level   Salary\n",
              "0   Business Analyst      1    45000\n",
              "1  Junior Consultant      2    50000\n",
              "2  Senior Consultant      3    60000\n",
              "3            Manager      4    80000\n",
              "4    Country Manager      5   110000\n",
              "5     Region Manager      6   150000\n",
              "6            Partner      7   200000\n",
              "7     Senior Partner      8   300000\n",
              "8            C-level      9   500000\n",
              "9                CEO     10  1000000"
            ]
          },
          "execution_count": 11,
          "metadata": {},
          "output_type": "execute_result"
        }
      ],
      "source": [
        "df"
      ]
    },
    {
      "cell_type": "markdown",
      "metadata": {
        "id": "wRbHLj9y6aES"
      },
      "source": [
        "## Feature Scaling"
      ]
    },
    {
      "cell_type": "code",
      "execution_count": null,
      "metadata": {
        "id": "cp1euWrI6aET"
      },
      "outputs": [],
      "source": [
        "from sklearn.preprocessing import StandardScaler\n",
        "sc_X = StandardScaler()\n",
        "sc_y = StandardScaler()\n",
        "X = sc_X.fit_transform(X)\n",
        "y = sc_y.fit_transform(y)"
      ]
    },
    {
      "cell_type": "markdown",
      "metadata": {
        "id": "uRbDFGGZ6aET"
      },
      "source": [
        "## Fitting the Support Vector Regression Model to the dataset"
      ]
    },
    {
      "cell_type": "markdown",
      "metadata": {
        "id": "pHUwkBAW6aET"
      },
      "source": [
        "most important SVR parameter is Kernel type. It can be linear,polynomial or gaussian SVR.\n",
        "We have a non-linear condition so we can select polynomial or gaussian but here we select RBF(a #gaussian type) kernel.regressor = SVR(kernel='rbf')"
      ]
    },
    {
      "cell_type": "code",
      "execution_count": null,
      "metadata": {
        "id": "TCudGKFx6aET"
      },
      "outputs": [],
      "source": [
        "from sklearn.svm import SVR"
      ]
    },
    {
      "cell_type": "code",
      "execution_count": null,
      "metadata": {
        "id": "OGyn9GAH6aET",
        "outputId": "90375c29-db5b-4f18-90ec-f4de9a417935"
      },
      "outputs": [
        {
          "name": "stderr",
          "output_type": "stream",
          "text": [
            "C:\\Users\\soso\\anaconda3\\lib\\site-packages\\sklearn\\utils\\validation.py:72: DataConversionWarning: A column-vector y was passed when a 1d array was expected. Please change the shape of y to (n_samples, ), for example using ravel().\n",
            "  return f(**kwargs)\n"
          ]
        },
        {
          "data": {
            "text/plain": [
              "SVR()"
            ]
          },
          "execution_count": 13,
          "metadata": {},
          "output_type": "execute_result"
        }
      ],
      "source": [
        "regressor = SVR(kernel='rbf')\n",
        "regressor.fit(X,y)"
      ]
    },
    {
      "cell_type": "markdown",
      "metadata": {
        "id": "oK-ucY7P6aEU"
      },
      "source": [
        "## Visualising the Support Vector Regression\n"
      ]
    },
    {
      "cell_type": "code",
      "execution_count": null,
      "metadata": {
        "id": "Zo4PFwIY6aEU",
        "outputId": "a52d288f-77a6-4fae-b9ea-0718e75c3a6e"
      },
      "outputs": [
        {
          "data": {
            "image/png": "[encoded data removed]",
            "text/plain": [
              "<Figure size 432x288 with 1 Axes>"
            ]
          },
          "metadata": {
            "needs_background": "light"
          },
          "output_type": "display_data"
        }
      ],
      "source": [
        "plt.scatter(X, y, color = 'magenta')\n",
        "plt.plot(X, regressor.predict(X), color = 'green')\n",
        "plt.title('Truth or Bluff (Support Vector Regression Model)')\n",
        "plt.xlabel('Position level')\n",
        "plt.ylabel('Salary')\n",
        "plt.show()"
      ]
    }
  ],
  "metadata": {
    "kernelspec": {
      "display_name": "Python 3 (ipykernel)",
      "language": "python",
      "name": "python3"
    },
    "language_info": {
      "codemirror_mode": {
        "name": "ipython",
        "version": 3
      },
      "file_extension": ".py",
      "mimetype": "text/x-python",
      "name": "python",
      "nbconvert_exporter": "python",
      "pygments_lexer": "ipython3",
      "version": "3.9.13"
    },
    "colab": {
      "provenance": []
    }
  },
  "nbformat": 4,
  "nbformat_minor": 0
}
